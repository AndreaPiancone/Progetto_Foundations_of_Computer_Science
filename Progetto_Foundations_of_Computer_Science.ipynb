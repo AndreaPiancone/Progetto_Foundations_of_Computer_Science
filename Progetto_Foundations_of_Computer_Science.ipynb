{
 "cells": [
  {
   "cell_type": "markdown",
   "metadata": {},
   "source": [
    "<ul>\n",
    "    <li>Nome: Andrea<\\li>\n",
    "    <li>Cognome: Piancone <\\li>\n",
    "    <li>Matricoa: 812250 <\\li>\n",
    "        </ul>"
   ]
  },
  {
   "cell_type": "markdown",
   "metadata": {},
   "source": [
    "# Progetto Foundations of Computer Science"
   ]
  },
  {
   "cell_type": "markdown",
   "metadata": {},
   "source": [
    "<hr>"
   ]
  },
  {
   "cell_type": "markdown",
   "metadata": {},
   "source": [
    "## Librerie"
   ]
  },
  {
   "cell_type": "code",
   "execution_count": 1,
   "metadata": {},
   "outputs": [],
   "source": [
    "import pandas as pd\n",
    "import numpy as np\n",
    "import datetime\n",
    "import random\n",
    "import time\n",
    "pd.set_option('display.max_columns', None)#rimuovo il limite massimo di colonne visualizzabili\n",
    "pd.set_option('display.float_format', lambda x: '%.5f' % x) #soppressione della  notazione scientifica"
   ]
  },
  {
   "cell_type": "code",
   "execution_count": 2,
   "metadata": {},
   "outputs": [],
   "source": [
    "start = time.time()"
   ]
  },
  {
   "cell_type": "markdown",
   "metadata": {},
   "source": [
    "## Datasets"
   ]
  },
  {
   "cell_type": "code",
   "execution_count": 3,
   "metadata": {},
   "outputs": [],
   "source": [
    "loan_lenders = pd.read_csv(r'loans_lenders.csv')\n",
    "loans = pd.read_csv(r'loans.csv')\n",
    "lenders = pd.read_csv(r'lenders.csv')\n",
    "country_stats = pd.read_csv(r'country_stats.csv')"
   ]
  },
  {
   "cell_type": "markdown",
   "metadata": {},
   "source": [
    "<center><h1> Esercizi </h1></center>"
   ]
  },
  {
   "cell_type": "markdown",
   "metadata": {},
   "source": [
    "## 1) Normalize the loan_lenders table"
   ]
  },
  {
   "cell_type": "code",
   "execution_count": 4,
   "metadata": {},
   "outputs": [
    {
     "data": {
      "text/html": [
       "<div>\n",
       "<style scoped>\n",
       "    .dataframe tbody tr th:only-of-type {\n",
       "        vertical-align: middle;\n",
       "    }\n",
       "\n",
       "    .dataframe tbody tr th {\n",
       "        vertical-align: top;\n",
       "    }\n",
       "\n",
       "    .dataframe thead th {\n",
       "        text-align: right;\n",
       "    }\n",
       "</style>\n",
       "<table border=\"1\" class=\"dataframe\">\n",
       "  <thead>\n",
       "    <tr style=\"text-align: right;\">\n",
       "      <th></th>\n",
       "      <th>loan_id</th>\n",
       "      <th>lenders</th>\n",
       "    </tr>\n",
       "  </thead>\n",
       "  <tbody>\n",
       "    <tr>\n",
       "      <td>0</td>\n",
       "      <td>483693</td>\n",
       "      <td>muc888</td>\n",
       "    </tr>\n",
       "    <tr>\n",
       "      <td>1</td>\n",
       "      <td>483693</td>\n",
       "      <td>sam4326</td>\n",
       "    </tr>\n",
       "    <tr>\n",
       "      <td>2</td>\n",
       "      <td>483693</td>\n",
       "      <td>camaran3922</td>\n",
       "    </tr>\n",
       "    <tr>\n",
       "      <td>3</td>\n",
       "      <td>483693</td>\n",
       "      <td>lachheb1865</td>\n",
       "    </tr>\n",
       "    <tr>\n",
       "      <td>4</td>\n",
       "      <td>483693</td>\n",
       "      <td>rebecca3499</td>\n",
       "    </tr>\n",
       "    <tr>\n",
       "      <td>...</td>\n",
       "      <td>...</td>\n",
       "      <td>...</td>\n",
       "    </tr>\n",
       "    <tr>\n",
       "      <td>28293926</td>\n",
       "      <td>1206425</td>\n",
       "      <td>trogdorfamily7622</td>\n",
       "    </tr>\n",
       "    <tr>\n",
       "      <td>28293927</td>\n",
       "      <td>1206425</td>\n",
       "      <td>danny6470</td>\n",
       "    </tr>\n",
       "    <tr>\n",
       "      <td>28293928</td>\n",
       "      <td>1206425</td>\n",
       "      <td>don6118</td>\n",
       "    </tr>\n",
       "    <tr>\n",
       "      <td>28293929</td>\n",
       "      <td>1206486</td>\n",
       "      <td>alan5175</td>\n",
       "    </tr>\n",
       "    <tr>\n",
       "      <td>28293930</td>\n",
       "      <td>1206486</td>\n",
       "      <td>amy38101311</td>\n",
       "    </tr>\n",
       "  </tbody>\n",
       "</table>\n",
       "<p>28293931 rows × 2 columns</p>\n",
       "</div>"
      ],
      "text/plain": [
       "          loan_id            lenders\n",
       "0          483693             muc888\n",
       "1          483693            sam4326\n",
       "2          483693        camaran3922\n",
       "3          483693        lachheb1865\n",
       "4          483693        rebecca3499\n",
       "...           ...                ...\n",
       "28293926  1206425  trogdorfamily7622\n",
       "28293927  1206425          danny6470\n",
       "28293928  1206425            don6118\n",
       "28293929  1206486           alan5175\n",
       "28293930  1206486        amy38101311\n",
       "\n",
       "[28293931 rows x 2 columns]"
      ]
     },
     "execution_count": 4,
     "metadata": {},
     "output_type": "execute_result"
    }
   ],
   "source": [
    "loan_lenders_normalized = (loan_lenders.set_index(['loan_id'])\n",
    "                   .apply(lambda x: x.str.split(', ').explode())\n",
    "                   .reset_index())\n",
    "\n",
    "loan_lenders_normalized"
   ]
  },
  {
   "cell_type": "markdown",
   "metadata": {},
   "source": [
    "## 2) For each loan, add a column duration corresponding to the number of days between the disburse time and the planned expiration time"
   ]
  },
  {
   "cell_type": "code",
   "execution_count": 5,
   "metadata": {},
   "outputs": [
    {
     "data": {
      "text/plain": [
       "0         54.00000\n",
       "1         96.00000\n",
       "2         37.00000\n",
       "3         35.00000\n",
       "4         58.00000\n",
       "            ...   \n",
       "1419602   40.00000\n",
       "1419603   39.00000\n",
       "1419604   51.00000\n",
       "1419605   63.00000\n",
       "1419606   61.00000\n",
       "Name: duration, Length: 1419607, dtype: float64"
      ]
     },
     "execution_count": 5,
     "metadata": {},
     "output_type": "execute_result"
    }
   ],
   "source": [
    "loans[['disburse_time', 'planned_expiration_time']] = loans[['disburse_time', \n",
    "                                                             'planned_expiration_time']].apply(pd.to_datetime).apply(lambda x: x.dt.date)\n",
    "\n",
    "loans['duration'] = (loans['planned_expiration_time'] - loans['disburse_time']).dt.days\n",
    "\n",
    "loans['duration']"
   ]
  },
  {
   "cell_type": "markdown",
   "metadata": {},
   "source": [
    "## 3) Find the lenders that have funded at least twice"
   ]
  },
  {
   "cell_type": "code",
   "execution_count": 6,
   "metadata": {},
   "outputs": [
    {
     "data": {
      "text/plain": [
       "gooddogg1           167512\n",
       "trolltech4460       141268\n",
       "gmct                123164\n",
       "nms                  96713\n",
       "themissionbeltco     74067\n",
       "                     ...  \n",
       "samantha25753010         2\n",
       "trent5851                2\n",
       "meghna3445               2\n",
       "alana5711                2\n",
       "dave48823877             2\n",
       "Name: lenders, Length: 893981, dtype: int64"
      ]
     },
     "execution_count": 6,
     "metadata": {},
     "output_type": "execute_result"
    }
   ],
   "source": [
    "loans_funded = pd.merge(loans['loan_id'].loc[loans['status'] == 'funded'], loan_lenders_normalized, \n",
    "                        on = 'loan_id')\n",
    "\n",
    "loans_funded['lenders'].value_counts().loc[lambda x: x>=2]"
   ]
  },
  {
   "cell_type": "markdown",
   "metadata": {},
   "source": [
    "## 4) For each country, compute how many loans have involved that country as borrowers"
   ]
  },
  {
   "cell_type": "code",
   "execution_count": 7,
   "metadata": {},
   "outputs": [
    {
     "data": {
      "text/plain": [
       "Philippines         285336\n",
       "Kenya               143699\n",
       "Peru                 86000\n",
       "Cambodia             79701\n",
       "El Salvador          64037\n",
       "                     ...  \n",
       "Botswana                 1\n",
       "Papua New Guinea         1\n",
       "Mauritania               1\n",
       "Canada                   1\n",
       "Uruguay                  1\n",
       "Name: country_name, Length: 96, dtype: int64"
      ]
     },
     "execution_count": 7,
     "metadata": {},
     "output_type": "execute_result"
    }
   ],
   "source": [
    "loans['country_name'].value_counts()"
   ]
  },
  {
   "cell_type": "markdown",
   "metadata": {},
   "source": [
    "## 5) For each country, compute the overall amount of money borrowed"
   ]
  },
  {
   "cell_type": "code",
   "execution_count": 8,
   "metadata": {},
   "outputs": [
    {
     "data": {
      "text/plain": [
       "country_name\n",
       "Afghanistan       1967950.00000\n",
       "Albania           4307350.00000\n",
       "Armenia          22950475.00000\n",
       "Azerbaijan       14784625.00000\n",
       "Belize             150175.00000\n",
       "                      ...      \n",
       "Vietnam          24681100.00000\n",
       "Virgin Islands      10000.00000\n",
       "Yemen             3444000.00000\n",
       "Zambia            1978975.00000\n",
       "Zimbabwe          5851875.00000\n",
       "Name: loan_amount, Length: 96, dtype: float64"
      ]
     },
     "execution_count": 8,
     "metadata": {},
     "output_type": "execute_result"
    }
   ],
   "source": [
    "borrowed_by_country = loans.groupby('country_name')['loan_amount'].sum()\n",
    "\n",
    "borrowed_by_country"
   ]
  },
  {
   "cell_type": "markdown",
   "metadata": {},
   "source": [
    "## 6) Like the previous point, but expressed as a percentage of the overall amount lent"
   ]
  },
  {
   "cell_type": "code",
   "execution_count": 9,
   "metadata": {},
   "outputs": [],
   "source": [
    "#borrowed_by_country = loans.groupby('country_name')['loan_amount'].sum()"
   ]
  },
  {
   "cell_type": "code",
   "execution_count": 10,
   "metadata": {},
   "outputs": [
    {
     "data": {
      "text/plain": [
       "country_name\n",
       "Afghanistan      0.16657\n",
       "Albania          0.36459\n",
       "Armenia          1.94259\n",
       "Azerbaijan       1.25141\n",
       "Belize           0.01271\n",
       "                   ...  \n",
       "Vietnam          2.08907\n",
       "Virgin Islands   0.00085\n",
       "Yemen            0.29151\n",
       "Zambia           0.16751\n",
       "Zimbabwe         0.49532\n",
       "Name: loan_amount, Length: 96, dtype: float64"
      ]
     },
     "execution_count": 10,
     "metadata": {},
     "output_type": "execute_result"
    }
   ],
   "source": [
    "(borrowed_by_country / loans['loan_amount'].sum()) * 100"
   ]
  },
  {
   "cell_type": "markdown",
   "metadata": {},
   "source": [
    "## 7) Like the three previous points, but split for each year"
   ]
  },
  {
   "cell_type": "code",
   "execution_count": 11,
   "metadata": {},
   "outputs": [],
   "source": [
    "loans['disburse_year'] = loans['disburse_time'].apply(lambda x: x.year)"
   ]
  },
  {
   "cell_type": "markdown",
   "metadata": {},
   "source": [
    "### 7.1) For each country and year, compute how many loans have involved that country as borrowers"
   ]
  },
  {
   "cell_type": "code",
   "execution_count": 12,
   "metadata": {},
   "outputs": [
    {
     "data": {
      "text/plain": [
       "country_name  disburse_year\n",
       "Afghanistan   2007.00000        408\n",
       "              2008.00000        370\n",
       "              2009.00000        678\n",
       "              2010.00000        632\n",
       "              2011.00000        247\n",
       "                               ... \n",
       "Zimbabwe      2013.00000        426\n",
       "              2014.00000       2078\n",
       "              2015.00000        600\n",
       "              2016.00000        808\n",
       "              2017.00000       1079\n",
       "Length: 748, dtype: int64"
      ]
     },
     "execution_count": 12,
     "metadata": {},
     "output_type": "execute_result"
    }
   ],
   "source": [
    "loans.groupby(['country_name', 'disburse_year']).size()"
   ]
  },
  {
   "cell_type": "markdown",
   "metadata": {},
   "source": [
    "### 7.2) For each country and year, compute the overall amount of money borrowed"
   ]
  },
  {
   "cell_type": "code",
   "execution_count": 13,
   "metadata": {},
   "outputs": [
    {
     "data": {
      "text/plain": [
       "country_name  disburse_year\n",
       "Afghanistan   2007.00000       194975.00000\n",
       "              2008.00000       365375.00000\n",
       "              2009.00000       585125.00000\n",
       "              2010.00000       563350.00000\n",
       "              2011.00000       245125.00000\n",
       "                                   ...     \n",
       "Zimbabwe      2013.00000       678525.00000\n",
       "              2014.00000      1311575.00000\n",
       "              2015.00000       723625.00000\n",
       "              2016.00000       788600.00000\n",
       "              2017.00000      1237600.00000\n",
       "Name: loan_amount, Length: 748, dtype: float64"
      ]
     },
     "execution_count": 13,
     "metadata": {},
     "output_type": "execute_result"
    }
   ],
   "source": [
    "loans.groupby(['country_name', 'disburse_year'])['loan_amount'].sum()"
   ]
  },
  {
   "cell_type": "markdown",
   "metadata": {},
   "source": [
    "### 7.3) For each country and year, compute the overall amount of money borrowed"
   ]
  },
  {
   "cell_type": "code",
   "execution_count": 14,
   "metadata": {},
   "outputs": [
    {
     "data": {
      "text/plain": [
       "country_name  disburse_year\n",
       "Afghanistan   2007.00000      0.01650\n",
       "              2008.00000      0.03093\n",
       "              2009.00000      0.04953\n",
       "              2010.00000      0.04768\n",
       "              2011.00000      0.02075\n",
       "                                ...  \n",
       "Zimbabwe      2013.00000      0.05743\n",
       "              2014.00000      0.11102\n",
       "              2015.00000      0.06125\n",
       "              2016.00000      0.06675\n",
       "              2017.00000      0.10475\n",
       "Name: loan_amount, Length: 748, dtype: float64"
      ]
     },
     "execution_count": 14,
     "metadata": {},
     "output_type": "execute_result"
    }
   ],
   "source": [
    "(loans.groupby(['country_name', 'disburse_year'])['loan_amount'].sum() / loans['loan_amount'].sum()) * 100"
   ]
  },
  {
   "cell_type": "markdown",
   "metadata": {},
   "source": [
    "## 8) For each lender, compute the overall amount of money lent"
   ]
  },
  {
   "cell_type": "code",
   "execution_count": 15,
   "metadata": {},
   "outputs": [
    {
     "data": {
      "text/html": [
       "<div>\n",
       "<style scoped>\n",
       "    .dataframe tbody tr th:only-of-type {\n",
       "        vertical-align: middle;\n",
       "    }\n",
       "\n",
       "    .dataframe tbody tr th {\n",
       "        vertical-align: top;\n",
       "    }\n",
       "\n",
       "    .dataframe thead th {\n",
       "        text-align: right;\n",
       "    }\n",
       "</style>\n",
       "<table border=\"1\" class=\"dataframe\">\n",
       "  <thead>\n",
       "    <tr style=\"text-align: right;\">\n",
       "      <th></th>\n",
       "      <th>lenders</th>\n",
       "      <th>lent</th>\n",
       "    </tr>\n",
       "  </thead>\n",
       "  <tbody>\n",
       "    <tr>\n",
       "      <td>0</td>\n",
       "      <td>000</td>\n",
       "      <td>1563.88108</td>\n",
       "    </tr>\n",
       "    <tr>\n",
       "      <td>1</td>\n",
       "      <td>00000</td>\n",
       "      <td>1249.94736</td>\n",
       "    </tr>\n",
       "    <tr>\n",
       "      <td>2</td>\n",
       "      <td>0002</td>\n",
       "      <td>2201.18046</td>\n",
       "    </tr>\n",
       "    <tr>\n",
       "      <td>3</td>\n",
       "      <td>00mike00</td>\n",
       "      <td>38.46154</td>\n",
       "    </tr>\n",
       "    <tr>\n",
       "      <td>4</td>\n",
       "      <td>0101craign0101</td>\n",
       "      <td>2424.08893</td>\n",
       "    </tr>\n",
       "    <tr>\n",
       "      <td>...</td>\n",
       "      <td>...</td>\n",
       "      <td>...</td>\n",
       "    </tr>\n",
       "    <tr>\n",
       "      <td>1383794</td>\n",
       "      <td>zzmcfate</td>\n",
       "      <td>60150.83276</td>\n",
       "    </tr>\n",
       "    <tr>\n",
       "      <td>1383795</td>\n",
       "      <td>zzpaghetti9994</td>\n",
       "      <td>44.24779</td>\n",
       "    </tr>\n",
       "    <tr>\n",
       "      <td>1383796</td>\n",
       "      <td>zzrvmf8538</td>\n",
       "      <td>551.82958</td>\n",
       "    </tr>\n",
       "    <tr>\n",
       "      <td>1383797</td>\n",
       "      <td>zzzsai</td>\n",
       "      <td>236.88805</td>\n",
       "    </tr>\n",
       "    <tr>\n",
       "      <td>1383798</td>\n",
       "      <td>zzzworld</td>\n",
       "      <td>26.31579</td>\n",
       "    </tr>\n",
       "  </tbody>\n",
       "</table>\n",
       "<p>1383799 rows × 2 columns</p>\n",
       "</div>"
      ],
      "text/plain": [
       "                lenders        lent\n",
       "0                   000  1563.88108\n",
       "1                 00000  1249.94736\n",
       "2                  0002  2201.18046\n",
       "3              00mike00    38.46154\n",
       "4        0101craign0101  2424.08893\n",
       "...                 ...         ...\n",
       "1383794        zzmcfate 60150.83276\n",
       "1383795  zzpaghetti9994    44.24779\n",
       "1383796      zzrvmf8538   551.82958\n",
       "1383797          zzzsai   236.88805\n",
       "1383798        zzzworld    26.31579\n",
       "\n",
       "[1383799 rows x 2 columns]"
      ]
     },
     "execution_count": 15,
     "metadata": {},
     "output_type": "execute_result"
    }
   ],
   "source": [
    "loans['average_amount'] = loans['loan_amount'] / loans['num_lenders_total']\n",
    "\n",
    "lent_per_lenders = pd.merge(loan_lenders_normalized, loans[['loan_id', 'average_amount']], \n",
    "                              on = 'loan_id')\n",
    "\n",
    "lent_per_lenders = lent_per_lenders.groupby('lenders')['average_amount'].sum().reset_index(name = 'lent')\n",
    "\n",
    "lent_per_lenders"
   ]
  },
  {
   "cell_type": "markdown",
   "metadata": {},
   "source": [
    "## 9) For each country, compute the difference between the overall amount of money lent and the overall amount of money borrowed"
   ]
  },
  {
   "cell_type": "code",
   "execution_count": 16,
   "metadata": {},
   "outputs": [],
   "source": [
    "def found_distribution(country_code):\n",
    "    random.seed(1234)\n",
    "    results = list()\n",
    "    values = pd.unique(country_code.dropna())\n",
    "    results.append(values)\n",
    "    probs = country_code.dropna().value_counts() / len(country_code.dropna())\n",
    "    results.append(probs)\n",
    "    index_rows_nan = country_code.index[country_code.isnull()]\n",
    "    results.append(index_rows_nan)\n",
    "    n = len(index_rows_nan)\n",
    "    results.append(n)\n",
    "    return (results)"
   ]
  },
  {
   "cell_type": "code",
   "execution_count": 17,
   "metadata": {},
   "outputs": [],
   "source": [
    "results_function = found_distribution(lenders['country_code'])\n",
    "\n",
    "#results_function[0] = values, results_function[1] = probs, results_function[2] = n, results_function[3] = index_rows_nan\n",
    "\n",
    "random_country_code = pd.Series(np.random.choice(results_function[0], p = results_function[1],\n",
    "                                                size = results_function[3]), index = results_function[2])\n",
    "\n",
    "lenders['country_code'].fillna(random_country_code, inplace = True)"
   ]
  },
  {
   "cell_type": "code",
   "execution_count": 18,
   "metadata": {},
   "outputs": [
    {
     "data": {
      "text/html": [
       "<div>\n",
       "<style scoped>\n",
       "    .dataframe tbody tr th:only-of-type {\n",
       "        vertical-align: middle;\n",
       "    }\n",
       "\n",
       "    .dataframe tbody tr th {\n",
       "        vertical-align: top;\n",
       "    }\n",
       "\n",
       "    .dataframe thead th {\n",
       "        text-align: right;\n",
       "    }\n",
       "</style>\n",
       "<table border=\"1\" class=\"dataframe\">\n",
       "  <thead>\n",
       "    <tr style=\"text-align: right;\">\n",
       "      <th></th>\n",
       "      <th>country_code</th>\n",
       "      <th>lent</th>\n",
       "      <th>borrowed</th>\n",
       "      <th>difference</th>\n",
       "    </tr>\n",
       "  </thead>\n",
       "  <tbody>\n",
       "    <tr>\n",
       "      <td>0</td>\n",
       "      <td>AD</td>\n",
       "      <td>23567.03893</td>\n",
       "      <td>0.00000</td>\n",
       "      <td>23567.03893</td>\n",
       "    </tr>\n",
       "    <tr>\n",
       "      <td>1</td>\n",
       "      <td>AE</td>\n",
       "      <td>1693764.03131</td>\n",
       "      <td>0.00000</td>\n",
       "      <td>1693764.03131</td>\n",
       "    </tr>\n",
       "    <tr>\n",
       "      <td>2</td>\n",
       "      <td>AF</td>\n",
       "      <td>109822.89614</td>\n",
       "      <td>1967950.00000</td>\n",
       "      <td>-1858127.10386</td>\n",
       "    </tr>\n",
       "    <tr>\n",
       "      <td>3</td>\n",
       "      <td>AG</td>\n",
       "      <td>596.99757</td>\n",
       "      <td>0.00000</td>\n",
       "      <td>596.99757</td>\n",
       "    </tr>\n",
       "    <tr>\n",
       "      <td>4</td>\n",
       "      <td>AI</td>\n",
       "      <td>916.53300</td>\n",
       "      <td>0.00000</td>\n",
       "      <td>916.53300</td>\n",
       "    </tr>\n",
       "    <tr>\n",
       "      <td>...</td>\n",
       "      <td>...</td>\n",
       "      <td>...</td>\n",
       "      <td>...</td>\n",
       "      <td>...</td>\n",
       "    </tr>\n",
       "    <tr>\n",
       "      <td>229</td>\n",
       "      <td>YT</td>\n",
       "      <td>6671.22923</td>\n",
       "      <td>0.00000</td>\n",
       "      <td>6671.22923</td>\n",
       "    </tr>\n",
       "    <tr>\n",
       "      <td>230</td>\n",
       "      <td>ZA</td>\n",
       "      <td>507443.76066</td>\n",
       "      <td>1006525.00000</td>\n",
       "      <td>-499081.23934</td>\n",
       "    </tr>\n",
       "    <tr>\n",
       "      <td>231</td>\n",
       "      <td>ZM</td>\n",
       "      <td>37965.51223</td>\n",
       "      <td>1978975.00000</td>\n",
       "      <td>-1941009.48777</td>\n",
       "    </tr>\n",
       "    <tr>\n",
       "      <td>232</td>\n",
       "      <td>ZW</td>\n",
       "      <td>7999.51499</td>\n",
       "      <td>5851875.00000</td>\n",
       "      <td>-5843875.48501</td>\n",
       "    </tr>\n",
       "    <tr>\n",
       "      <td>233</td>\n",
       "      <td>TD</td>\n",
       "      <td>0.00000</td>\n",
       "      <td>20075.00000</td>\n",
       "      <td>-20075.00000</td>\n",
       "    </tr>\n",
       "  </tbody>\n",
       "</table>\n",
       "<p>234 rows × 4 columns</p>\n",
       "</div>"
      ],
      "text/plain": [
       "    country_code          lent      borrowed     difference\n",
       "0             AD   23567.03893       0.00000    23567.03893\n",
       "1             AE 1693764.03131       0.00000  1693764.03131\n",
       "2             AF  109822.89614 1967950.00000 -1858127.10386\n",
       "3             AG     596.99757       0.00000      596.99757\n",
       "4             AI     916.53300       0.00000      916.53300\n",
       "..           ...           ...           ...            ...\n",
       "229           YT    6671.22923       0.00000     6671.22923\n",
       "230           ZA  507443.76066 1006525.00000  -499081.23934\n",
       "231           ZM   37965.51223 1978975.00000 -1941009.48777\n",
       "232           ZW    7999.51499 5851875.00000 -5843875.48501\n",
       "233           TD       0.00000   20075.00000   -20075.00000\n",
       "\n",
       "[234 rows x 4 columns]"
      ]
     },
     "execution_count": 18,
     "metadata": {},
     "output_type": "execute_result"
    }
   ],
   "source": [
    "borrowed_by_country = loans.groupby('country_code')['loan_amount'].sum().reset_index(name = 'borrowed')\n",
    "\n",
    "lent_per_lenders = pd.merge(lent_per_lenders, lenders[['permanent_name', 'country_code']], \n",
    "                             left_on = 'lenders', right_on = 'permanent_name')\n",
    "\n",
    "lent_per_country = lent_per_lenders.groupby('country_code')['lent'].sum().reset_index(name = 'lent')\n",
    "\n",
    "lent_borrowed_by_country = pd.merge(lent_per_country, borrowed_by_country, on = 'country_code', how = 'outer')\n",
    "\n",
    "lent_borrowed_by_country.fillna(0, inplace = True)\n",
    "\n",
    "lent_borrowed_by_country['difference'] = lent_borrowed_by_country['lent'] - lent_borrowed_by_country['borrowed']\n",
    "\n",
    "lent_borrowed_by_country"
   ]
  },
  {
   "cell_type": "markdown",
   "metadata": {},
   "source": [
    "## 10) Which country has the highest ratio between the difference computed at the previous point and the population"
   ]
  },
  {
   "cell_type": "code",
   "execution_count": 19,
   "metadata": {},
   "outputs": [
    {
     "data": {
      "text/plain": [
       "'NO'"
      ]
     },
     "execution_count": 19,
     "metadata": {},
     "output_type": "execute_result"
    }
   ],
   "source": [
    "lent_borrowed_by_country = pd.merge(lent_borrowed_by_country, country_stats[['country_code', 'population', \n",
    "                                                                             'population_below_poverty_line']], \n",
    "                                    on = 'country_code')\n",
    "\n",
    "lent_borrowed_by_country = lent_borrowed_by_country.set_index('country_code')\n",
    "\n",
    "(lent_borrowed_by_country['difference'] / lent_borrowed_by_country['population']).idxmax()"
   ]
  },
  {
   "cell_type": "markdown",
   "metadata": {},
   "source": [
    "## 11) Which country has the highest ratio between the difference computed at point 9 and the population that is not below the poverty line"
   ]
  },
  {
   "cell_type": "code",
   "execution_count": 20,
   "metadata": {},
   "outputs": [
    {
     "data": {
      "text/plain": [
       "'US'"
      ]
     },
     "execution_count": 20,
     "metadata": {},
     "output_type": "execute_result"
    }
   ],
   "source": [
    "lent_borrowed_by_country['population_not_below_poverty_line'] = 100 - lent_borrowed_by_country['population_below_poverty_line']\n",
    "\n",
    "lent_borrowed_by_country['abs_population_not_below_poverty_line'] = (lent_borrowed_by_country['population'] *\n",
    "                                                                    lent_borrowed_by_country['population_not_below_poverty_line']) / 100\n",
    "  \n",
    "(lent_borrowed_by_country['difference'] / lent_borrowed_by_country['abs_population_not_below_poverty_line']).idxmax()"
   ]
  },
  {
   "cell_type": "markdown",
   "metadata": {},
   "source": [
    "## 12) For each year, compute the total amount of loans"
   ]
  },
  {
   "cell_type": "code",
   "execution_count": 21,
   "metadata": {},
   "outputs": [],
   "source": [
    "loans['duration'] = loans['duration'].abs()\n",
    "\n",
    "loans_not_null = loans.dropna(subset = ['planned_expiration_time', 'disburse_time'])\n",
    "\n",
    "# Per questioni computazionali separo i prestiti con duration uguale a zero con i prestati con duration maggiore di zero\n",
    "\n",
    "loans__duration_not_zero = loans_not_null[loans_not_null['duration'] != 0]\n",
    "\n",
    "loans_duration_zero = loans_not_null[loans_not_null['duration'] == 0]"
   ]
  },
  {
   "cell_type": "code",
   "execution_count": 22,
   "metadata": {},
   "outputs": [],
   "source": [
    "def day_count(date1, date2):\n",
    "    if date1 < date2:\n",
    "        begin = date1 + datetime.timedelta(1) #poichè sono presenti presenti con disbirse time antecendente a planned_expiration_time\n",
    "        end = date2 + datetime.timedelta(1)   # è stato necessario inserire una struttura di controllo.\n",
    "    else:\n",
    "        begin = date2 + datetime.timedelta(1)\n",
    "        end = date1 + datetime.timedelta(1)\n",
    "    years = range(begin.year,end.year + 1)\n",
    "    dictionary = dict()\n",
    "    for year in years:\n",
    "        year_start = datetime.date(year, 1, 1)\n",
    "        year_end = datetime.date(year + 1, 1, 1)\n",
    "        dictionary.update({year:(min(end, year_end) - max(begin, year_start)).days})\n",
    "    return pd.Series(dictionary, name = 'Date_Value')"
   ]
  },
  {
   "cell_type": "code",
   "execution_count": 23,
   "metadata": {},
   "outputs": [
    {
     "data": {
      "text/html": [
       "<div>\n",
       "<style scoped>\n",
       "    .dataframe tbody tr th:only-of-type {\n",
       "        vertical-align: middle;\n",
       "    }\n",
       "\n",
       "    .dataframe tbody tr th {\n",
       "        vertical-align: top;\n",
       "    }\n",
       "\n",
       "    .dataframe thead th {\n",
       "        text-align: right;\n",
       "    }\n",
       "</style>\n",
       "<table border=\"1\" class=\"dataframe\">\n",
       "  <thead>\n",
       "    <tr style=\"text-align: right;\">\n",
       "      <th></th>\n",
       "      <th>2011</th>\n",
       "      <th>2012</th>\n",
       "      <th>2013</th>\n",
       "      <th>2014</th>\n",
       "      <th>2015</th>\n",
       "      <th>2016</th>\n",
       "      <th>2017</th>\n",
       "      <th>2018</th>\n",
       "    </tr>\n",
       "  </thead>\n",
       "  <tbody>\n",
       "    <tr>\n",
       "      <td>0</td>\n",
       "      <td>nan</td>\n",
       "      <td>nan</td>\n",
       "      <td>9.00000</td>\n",
       "      <td>45.00000</td>\n",
       "      <td>nan</td>\n",
       "      <td>nan</td>\n",
       "      <td>nan</td>\n",
       "      <td>nan</td>\n",
       "    </tr>\n",
       "    <tr>\n",
       "      <td>1</td>\n",
       "      <td>nan</td>\n",
       "      <td>nan</td>\n",
       "      <td>11.00000</td>\n",
       "      <td>85.00000</td>\n",
       "      <td>nan</td>\n",
       "      <td>nan</td>\n",
       "      <td>nan</td>\n",
       "      <td>nan</td>\n",
       "    </tr>\n",
       "    <tr>\n",
       "      <td>2</td>\n",
       "      <td>nan</td>\n",
       "      <td>nan</td>\n",
       "      <td>nan</td>\n",
       "      <td>37.00000</td>\n",
       "      <td>nan</td>\n",
       "      <td>nan</td>\n",
       "      <td>nan</td>\n",
       "      <td>nan</td>\n",
       "    </tr>\n",
       "    <tr>\n",
       "      <td>3</td>\n",
       "      <td>nan</td>\n",
       "      <td>nan</td>\n",
       "      <td>nan</td>\n",
       "      <td>35.00000</td>\n",
       "      <td>nan</td>\n",
       "      <td>nan</td>\n",
       "      <td>nan</td>\n",
       "      <td>nan</td>\n",
       "    </tr>\n",
       "    <tr>\n",
       "      <td>4</td>\n",
       "      <td>nan</td>\n",
       "      <td>nan</td>\n",
       "      <td>14.00000</td>\n",
       "      <td>44.00000</td>\n",
       "      <td>nan</td>\n",
       "      <td>nan</td>\n",
       "      <td>nan</td>\n",
       "      <td>nan</td>\n",
       "    </tr>\n",
       "    <tr>\n",
       "      <td>...</td>\n",
       "      <td>...</td>\n",
       "      <td>...</td>\n",
       "      <td>...</td>\n",
       "      <td>...</td>\n",
       "      <td>...</td>\n",
       "      <td>...</td>\n",
       "      <td>...</td>\n",
       "      <td>...</td>\n",
       "    </tr>\n",
       "    <tr>\n",
       "      <td>1419602</td>\n",
       "      <td>nan</td>\n",
       "      <td>nan</td>\n",
       "      <td>nan</td>\n",
       "      <td>nan</td>\n",
       "      <td>38.00000</td>\n",
       "      <td>2.00000</td>\n",
       "      <td>nan</td>\n",
       "      <td>nan</td>\n",
       "    </tr>\n",
       "    <tr>\n",
       "      <td>1419603</td>\n",
       "      <td>nan</td>\n",
       "      <td>nan</td>\n",
       "      <td>nan</td>\n",
       "      <td>nan</td>\n",
       "      <td>37.00000</td>\n",
       "      <td>2.00000</td>\n",
       "      <td>nan</td>\n",
       "      <td>nan</td>\n",
       "    </tr>\n",
       "    <tr>\n",
       "      <td>1419604</td>\n",
       "      <td>nan</td>\n",
       "      <td>nan</td>\n",
       "      <td>nan</td>\n",
       "      <td>nan</td>\n",
       "      <td>48.00000</td>\n",
       "      <td>3.00000</td>\n",
       "      <td>nan</td>\n",
       "      <td>nan</td>\n",
       "    </tr>\n",
       "    <tr>\n",
       "      <td>1419605</td>\n",
       "      <td>nan</td>\n",
       "      <td>nan</td>\n",
       "      <td>nan</td>\n",
       "      <td>nan</td>\n",
       "      <td>58.00000</td>\n",
       "      <td>5.00000</td>\n",
       "      <td>nan</td>\n",
       "      <td>nan</td>\n",
       "    </tr>\n",
       "    <tr>\n",
       "      <td>1419606</td>\n",
       "      <td>nan</td>\n",
       "      <td>nan</td>\n",
       "      <td>nan</td>\n",
       "      <td>nan</td>\n",
       "      <td>58.00000</td>\n",
       "      <td>3.00000</td>\n",
       "      <td>nan</td>\n",
       "      <td>nan</td>\n",
       "    </tr>\n",
       "  </tbody>\n",
       "</table>\n",
       "<p>1044218 rows × 8 columns</p>\n",
       "</div>"
      ],
      "text/plain": [
       "         2011  2012     2013     2014     2015    2016  2017  2018\n",
       "0         nan   nan  9.00000 45.00000      nan     nan   nan   nan\n",
       "1         nan   nan 11.00000 85.00000      nan     nan   nan   nan\n",
       "2         nan   nan      nan 37.00000      nan     nan   nan   nan\n",
       "3         nan   nan      nan 35.00000      nan     nan   nan   nan\n",
       "4         nan   nan 14.00000 44.00000      nan     nan   nan   nan\n",
       "...       ...   ...      ...      ...      ...     ...   ...   ...\n",
       "1419602   nan   nan      nan      nan 38.00000 2.00000   nan   nan\n",
       "1419603   nan   nan      nan      nan 37.00000 2.00000   nan   nan\n",
       "1419604   nan   nan      nan      nan 48.00000 3.00000   nan   nan\n",
       "1419605   nan   nan      nan      nan 58.00000 5.00000   nan   nan\n",
       "1419606   nan   nan      nan      nan 58.00000 3.00000   nan   nan\n",
       "\n",
       "[1044218 rows x 8 columns]"
      ]
     },
     "execution_count": 23,
     "metadata": {},
     "output_type": "execute_result"
    }
   ],
   "source": [
    "timetable = loans__duration_not_zero.apply(lambda x: day_count(x['disburse_time'], x['planned_expiration_time']), \n",
    "                                 axis = 1)\n",
    "\n",
    "timetable"
   ]
  },
  {
   "cell_type": "code",
   "execution_count": 24,
   "metadata": {},
   "outputs": [
    {
     "data": {
      "text/html": [
       "<div>\n",
       "<style scoped>\n",
       "    .dataframe tbody tr th:only-of-type {\n",
       "        vertical-align: middle;\n",
       "    }\n",
       "\n",
       "    .dataframe tbody tr th {\n",
       "        vertical-align: top;\n",
       "    }\n",
       "\n",
       "    .dataframe thead th {\n",
       "        text-align: right;\n",
       "    }\n",
       "</style>\n",
       "<table border=\"1\" class=\"dataframe\">\n",
       "  <thead>\n",
       "    <tr style=\"text-align: right;\">\n",
       "      <th></th>\n",
       "      <th>loan_id</th>\n",
       "      <th>2011</th>\n",
       "      <th>2012</th>\n",
       "      <th>2013</th>\n",
       "      <th>2014</th>\n",
       "      <th>2015</th>\n",
       "      <th>2016</th>\n",
       "      <th>2017</th>\n",
       "      <th>2018</th>\n",
       "      <th>loan_amount</th>\n",
       "      <th>duration</th>\n",
       "    </tr>\n",
       "  </thead>\n",
       "  <tbody>\n",
       "    <tr>\n",
       "      <td>0</td>\n",
       "      <td>657307</td>\n",
       "      <td>0.00000</td>\n",
       "      <td>0.00000</td>\n",
       "      <td>9.00000</td>\n",
       "      <td>45.00000</td>\n",
       "      <td>0.00000</td>\n",
       "      <td>0.00000</td>\n",
       "      <td>0.00000</td>\n",
       "      <td>0.00000</td>\n",
       "      <td>125.00000</td>\n",
       "      <td>54.00000</td>\n",
       "    </tr>\n",
       "    <tr>\n",
       "      <td>1</td>\n",
       "      <td>657259</td>\n",
       "      <td>0.00000</td>\n",
       "      <td>0.00000</td>\n",
       "      <td>11.00000</td>\n",
       "      <td>85.00000</td>\n",
       "      <td>0.00000</td>\n",
       "      <td>0.00000</td>\n",
       "      <td>0.00000</td>\n",
       "      <td>0.00000</td>\n",
       "      <td>400.00000</td>\n",
       "      <td>96.00000</td>\n",
       "    </tr>\n",
       "    <tr>\n",
       "      <td>2</td>\n",
       "      <td>658010</td>\n",
       "      <td>0.00000</td>\n",
       "      <td>0.00000</td>\n",
       "      <td>0.00000</td>\n",
       "      <td>37.00000</td>\n",
       "      <td>0.00000</td>\n",
       "      <td>0.00000</td>\n",
       "      <td>0.00000</td>\n",
       "      <td>0.00000</td>\n",
       "      <td>400.00000</td>\n",
       "      <td>37.00000</td>\n",
       "    </tr>\n",
       "    <tr>\n",
       "      <td>3</td>\n",
       "      <td>659347</td>\n",
       "      <td>0.00000</td>\n",
       "      <td>0.00000</td>\n",
       "      <td>0.00000</td>\n",
       "      <td>35.00000</td>\n",
       "      <td>0.00000</td>\n",
       "      <td>0.00000</td>\n",
       "      <td>0.00000</td>\n",
       "      <td>0.00000</td>\n",
       "      <td>625.00000</td>\n",
       "      <td>35.00000</td>\n",
       "    </tr>\n",
       "    <tr>\n",
       "      <td>4</td>\n",
       "      <td>656933</td>\n",
       "      <td>0.00000</td>\n",
       "      <td>0.00000</td>\n",
       "      <td>14.00000</td>\n",
       "      <td>44.00000</td>\n",
       "      <td>0.00000</td>\n",
       "      <td>0.00000</td>\n",
       "      <td>0.00000</td>\n",
       "      <td>0.00000</td>\n",
       "      <td>425.00000</td>\n",
       "      <td>58.00000</td>\n",
       "    </tr>\n",
       "    <tr>\n",
       "      <td>...</td>\n",
       "      <td>...</td>\n",
       "      <td>...</td>\n",
       "      <td>...</td>\n",
       "      <td>...</td>\n",
       "      <td>...</td>\n",
       "      <td>...</td>\n",
       "      <td>...</td>\n",
       "      <td>...</td>\n",
       "      <td>...</td>\n",
       "      <td>...</td>\n",
       "      <td>...</td>\n",
       "    </tr>\n",
       "    <tr>\n",
       "      <td>1044213</td>\n",
       "      <td>988180</td>\n",
       "      <td>0.00000</td>\n",
       "      <td>0.00000</td>\n",
       "      <td>0.00000</td>\n",
       "      <td>0.00000</td>\n",
       "      <td>38.00000</td>\n",
       "      <td>2.00000</td>\n",
       "      <td>0.00000</td>\n",
       "      <td>0.00000</td>\n",
       "      <td>400.00000</td>\n",
       "      <td>40.00000</td>\n",
       "    </tr>\n",
       "    <tr>\n",
       "      <td>1044214</td>\n",
       "      <td>988213</td>\n",
       "      <td>0.00000</td>\n",
       "      <td>0.00000</td>\n",
       "      <td>0.00000</td>\n",
       "      <td>0.00000</td>\n",
       "      <td>37.00000</td>\n",
       "      <td>2.00000</td>\n",
       "      <td>0.00000</td>\n",
       "      <td>0.00000</td>\n",
       "      <td>300.00000</td>\n",
       "      <td>39.00000</td>\n",
       "    </tr>\n",
       "    <tr>\n",
       "      <td>1044215</td>\n",
       "      <td>989109</td>\n",
       "      <td>0.00000</td>\n",
       "      <td>0.00000</td>\n",
       "      <td>0.00000</td>\n",
       "      <td>0.00000</td>\n",
       "      <td>48.00000</td>\n",
       "      <td>3.00000</td>\n",
       "      <td>0.00000</td>\n",
       "      <td>0.00000</td>\n",
       "      <td>2425.00000</td>\n",
       "      <td>51.00000</td>\n",
       "    </tr>\n",
       "    <tr>\n",
       "      <td>1044216</td>\n",
       "      <td>989143</td>\n",
       "      <td>0.00000</td>\n",
       "      <td>0.00000</td>\n",
       "      <td>0.00000</td>\n",
       "      <td>0.00000</td>\n",
       "      <td>58.00000</td>\n",
       "      <td>5.00000</td>\n",
       "      <td>0.00000</td>\n",
       "      <td>0.00000</td>\n",
       "      <td>100.00000</td>\n",
       "      <td>63.00000</td>\n",
       "    </tr>\n",
       "    <tr>\n",
       "      <td>1044217</td>\n",
       "      <td>989240</td>\n",
       "      <td>0.00000</td>\n",
       "      <td>0.00000</td>\n",
       "      <td>0.00000</td>\n",
       "      <td>0.00000</td>\n",
       "      <td>58.00000</td>\n",
       "      <td>3.00000</td>\n",
       "      <td>0.00000</td>\n",
       "      <td>0.00000</td>\n",
       "      <td>175.00000</td>\n",
       "      <td>61.00000</td>\n",
       "    </tr>\n",
       "  </tbody>\n",
       "</table>\n",
       "<p>1044218 rows × 11 columns</p>\n",
       "</div>"
      ],
      "text/plain": [
       "         loan_id    2011    2012     2013     2014     2015    2016    2017  \\\n",
       "0         657307 0.00000 0.00000  9.00000 45.00000  0.00000 0.00000 0.00000   \n",
       "1         657259 0.00000 0.00000 11.00000 85.00000  0.00000 0.00000 0.00000   \n",
       "2         658010 0.00000 0.00000  0.00000 37.00000  0.00000 0.00000 0.00000   \n",
       "3         659347 0.00000 0.00000  0.00000 35.00000  0.00000 0.00000 0.00000   \n",
       "4         656933 0.00000 0.00000 14.00000 44.00000  0.00000 0.00000 0.00000   \n",
       "...          ...     ...     ...      ...      ...      ...     ...     ...   \n",
       "1044213   988180 0.00000 0.00000  0.00000  0.00000 38.00000 2.00000 0.00000   \n",
       "1044214   988213 0.00000 0.00000  0.00000  0.00000 37.00000 2.00000 0.00000   \n",
       "1044215   989109 0.00000 0.00000  0.00000  0.00000 48.00000 3.00000 0.00000   \n",
       "1044216   989143 0.00000 0.00000  0.00000  0.00000 58.00000 5.00000 0.00000   \n",
       "1044217   989240 0.00000 0.00000  0.00000  0.00000 58.00000 3.00000 0.00000   \n",
       "\n",
       "           2018  loan_amount  duration  \n",
       "0       0.00000    125.00000  54.00000  \n",
       "1       0.00000    400.00000  96.00000  \n",
       "2       0.00000    400.00000  37.00000  \n",
       "3       0.00000    625.00000  35.00000  \n",
       "4       0.00000    425.00000  58.00000  \n",
       "...         ...          ...       ...  \n",
       "1044213 0.00000    400.00000  40.00000  \n",
       "1044214 0.00000    300.00000  39.00000  \n",
       "1044215 0.00000   2425.00000  51.00000  \n",
       "1044216 0.00000    100.00000  63.00000  \n",
       "1044217 0.00000    175.00000  61.00000  \n",
       "\n",
       "[1044218 rows x 11 columns]"
      ]
     },
     "execution_count": 24,
     "metadata": {},
     "output_type": "execute_result"
    }
   ],
   "source": [
    "timetable.fillna(0, inplace = True)\n",
    "\n",
    "timetable = timetable.set_index(loans__duration_not_zero['loan_id']).reset_index()\n",
    "\n",
    "timetable = pd.merge(timetable, loans__duration_not_zero[['loan_id', 'loan_amount', 'duration']], on = 'loan_id')\n",
    "\n",
    "timetable"
   ]
  },
  {
   "cell_type": "code",
   "execution_count": 25,
   "metadata": {},
   "outputs": [],
   "source": [
    "loan_amount_per_year = timetable[[2011,2012,2013,2014,2015,2016,2017,2018\n",
    "                        ]].div(timetable['duration'], axis=0).mul(timetable['loan_amount'], axis = 0)"
   ]
  },
  {
   "cell_type": "code",
   "execution_count": 26,
   "metadata": {},
   "outputs": [],
   "source": [
    "df1 = loan_amount_per_year.sum().to_frame().reset_index().rename(columns = {'index':'year', 0:'loan_amount'})"
   ]
  },
  {
   "cell_type": "code",
   "execution_count": 27,
   "metadata": {},
   "outputs": [],
   "source": [
    "df2 = loans_duration_zero.groupby('disburse_year')['loan_amount'].sum().to_frame().reset_index().rename(columns = {'disburse_year':'year'})"
   ]
  },
  {
   "cell_type": "code",
   "execution_count": 28,
   "metadata": {},
   "outputs": [
    {
     "data": {
      "text/html": [
       "<div>\n",
       "<style scoped>\n",
       "    .dataframe tbody tr th:only-of-type {\n",
       "        vertical-align: middle;\n",
       "    }\n",
       "\n",
       "    .dataframe tbody tr th {\n",
       "        vertical-align: top;\n",
       "    }\n",
       "\n",
       "    .dataframe thead th {\n",
       "        text-align: right;\n",
       "    }\n",
       "</style>\n",
       "<table border=\"1\" class=\"dataframe\">\n",
       "  <thead>\n",
       "    <tr style=\"text-align: right;\">\n",
       "      <th></th>\n",
       "      <th>year</th>\n",
       "      <th>loan_amount</th>\n",
       "    </tr>\n",
       "  </thead>\n",
       "  <tbody>\n",
       "    <tr>\n",
       "      <td>0</td>\n",
       "      <td>2011.00000</td>\n",
       "      <td>629911.77488</td>\n",
       "    </tr>\n",
       "    <tr>\n",
       "      <td>1</td>\n",
       "      <td>2012.00000</td>\n",
       "      <td>113287580.79478</td>\n",
       "    </tr>\n",
       "    <tr>\n",
       "      <td>2</td>\n",
       "      <td>2013.00000</td>\n",
       "      <td>125015552.04954</td>\n",
       "    </tr>\n",
       "    <tr>\n",
       "      <td>3</td>\n",
       "      <td>2014.00000</td>\n",
       "      <td>153214272.06143</td>\n",
       "    </tr>\n",
       "    <tr>\n",
       "      <td>4</td>\n",
       "      <td>2015.00000</td>\n",
       "      <td>159929916.50857</td>\n",
       "    </tr>\n",
       "    <tr>\n",
       "      <td>5</td>\n",
       "      <td>2016.00000</td>\n",
       "      <td>159363790.44077</td>\n",
       "    </tr>\n",
       "    <tr>\n",
       "      <td>6</td>\n",
       "      <td>2017.00000</td>\n",
       "      <td>172536423.51457</td>\n",
       "    </tr>\n",
       "    <tr>\n",
       "      <td>7</td>\n",
       "      <td>2018.00000</td>\n",
       "      <td>5826652.85546</td>\n",
       "    </tr>\n",
       "  </tbody>\n",
       "</table>\n",
       "</div>"
      ],
      "text/plain": [
       "        year     loan_amount\n",
       "0 2011.00000    629911.77488\n",
       "1 2012.00000 113287580.79478\n",
       "2 2013.00000 125015552.04954\n",
       "3 2014.00000 153214272.06143\n",
       "4 2015.00000 159929916.50857\n",
       "5 2016.00000 159363790.44077\n",
       "6 2017.00000 172536423.51457\n",
       "7 2018.00000   5826652.85546"
      ]
     },
     "execution_count": 28,
     "metadata": {},
     "output_type": "execute_result"
    }
   ],
   "source": [
    "loan_amount_per_year_complete = pd.concat([df1,df2]).groupby('year')['loan_amount'].sum().to_frame().reset_index()\n",
    "\n",
    "loan_amount_per_year_complete"
   ]
  },
  {
   "cell_type": "code",
   "execution_count": 29,
   "metadata": {},
   "outputs": [
    {
     "data": {
      "text/plain": [
       "-1.1920928955078125e-06"
      ]
     },
     "execution_count": 29,
     "metadata": {},
     "output_type": "execute_result"
    }
   ],
   "source": [
    "#si verifica se la distrubuzione dell'ammontare dei prestiti è andata a buon fine\n",
    "\n",
    "loan_amount_per_year_complete['loan_amount'].sum() - loans_not_null['loan_amount'].sum()"
   ]
  },
  {
   "cell_type": "code",
   "execution_count": 30,
   "metadata": {},
   "outputs": [],
   "source": [
    "# Poichè il delta tra i due ammontari è praticamente nullo si può concludere che la distribuzione dell'ammontare dei prestiti è \n",
    "# andata a buon fine"
   ]
  },
  {
   "cell_type": "code",
   "execution_count": 31,
   "metadata": {},
   "outputs": [
    {
     "name": "stdout",
     "output_type": "stream",
     "text": [
      "This script took: 11 minutes\n"
     ]
    }
   ],
   "source": [
    "end = time.time()\n",
    "\n",
    "print(\"This script took: {} minutes\".format(int((end-start)/60)))"
   ]
  }
 ],
 "metadata": {
  "kernelspec": {
   "display_name": "Python 3",
   "language": "python",
   "name": "python3"
  },
  "language_info": {
   "codemirror_mode": {
    "name": "ipython",
    "version": 3
   },
   "file_extension": ".py",
   "mimetype": "text/x-python",
   "name": "python",
   "nbconvert_exporter": "python",
   "pygments_lexer": "ipython3",
   "version": "3.7.4"
  }
 },
 "nbformat": 4,
 "nbformat_minor": 4
}
